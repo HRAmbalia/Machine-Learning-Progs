{
  "cells": [
    {
      "cell_type": "markdown",
      "metadata": {
        "id": "YLtgcibo4w7f"
      },
      "source": [
        "<h1>Lab 09</h1>\n",
        "<h4>Name : Ambalia Harshit</h4>\n",
        "<h4>Roll No. : MT001</h4>\n",
        "\n",
        "<h3>AIM : Suppot Vector Machine</h3>"
      ]
    },
    {
      "cell_type": "markdown",
      "source": [
        "# Lab Question"
      ],
      "metadata": {
        "id": "rOrWDLcF246l"
      }
    },
    {
      "cell_type": "code",
      "execution_count": 1,
      "metadata": {
        "colab": {
          "base_uri": "https://localhost:8080/"
        },
        "id": "bObSA61r4wiF",
        "outputId": "bda566a2-a1e5-49b7-d5fa-c00734d16f69"
      },
      "outputs": [
        {
          "output_type": "stream",
          "name": "stdout",
          "text": [
            "Drive already mounted at /content/drive; to attempt to forcibly remount, call drive.mount(\"/content/drive\", force_remount=True).\n"
          ]
        }
      ],
      "source": [
        "from google.colab import drive\n",
        "drive.mount('/content/drive')"
      ]
    },
    {
      "cell_type": "code",
      "execution_count": 2,
      "metadata": {
        "colab": {
          "base_uri": "https://localhost:8080/",
          "height": 226
        },
        "id": "CO2c66tE3eMJ",
        "outputId": "6409b9cd-b6fb-4098-ca28-26bfb5662d19"
      },
      "outputs": [
        {
          "output_type": "execute_result",
          "data": {
            "text/plain": [
              "  Mean_integrated Standard_deviation_integrated Excess_integrated  \\\n",
              "0       121.15625                   48.37297113       0.375484665   \n",
              "1        76.96875                   36.17555664        0.71289786   \n",
              "2     130.5859375                   53.22953353       0.133408289   \n",
              "3     156.3984375                   48.86594223      -0.215988596   \n",
              "4      84.8046875                   36.11765898       0.825012787   \n",
              "\n",
              "     Skewness_integrated             Mean_DM Standard_deviation_DM  \\\n",
              "0  -0.013165488999999999         3.168896321    18.399366600000004   \n",
              "1     3.3887185630000003         2.399665552           17.57099693   \n",
              "2           -0.297241641         2.743311037           22.36255299   \n",
              "3           -0.171293649         17.47157191                   NaN   \n",
              "4            3.274125373  2.7901337789999996           20.61800857   \n",
              "\n",
              "            Excess_DM        Skewness_DM target_class  \n",
              "0   7.449874148999999        65.15929771          0.0  \n",
              "1         9.414652256        102.7229747          0.0  \n",
              "2         8.508363784  74.03132420000001          0.0  \n",
              "3  2.9580659430000003        7.197841911          0.0  \n",
              "4         8.405008383        76.29112787          0.0  "
            ],
            "text/html": [
              "\n",
              "  <div id=\"df-2e1a3c0b-9efe-40d5-9821-f896baaf7fec\" class=\"colab-df-container\">\n",
              "    <div>\n",
              "<style scoped>\n",
              "    .dataframe tbody tr th:only-of-type {\n",
              "        vertical-align: middle;\n",
              "    }\n",
              "\n",
              "    .dataframe tbody tr th {\n",
              "        vertical-align: top;\n",
              "    }\n",
              "\n",
              "    .dataframe thead th {\n",
              "        text-align: right;\n",
              "    }\n",
              "</style>\n",
              "<table border=\"1\" class=\"dataframe\">\n",
              "  <thead>\n",
              "    <tr style=\"text-align: right;\">\n",
              "      <th></th>\n",
              "      <th>Mean_integrated</th>\n",
              "      <th>Standard_deviation_integrated</th>\n",
              "      <th>Excess_integrated</th>\n",
              "      <th>Skewness_integrated</th>\n",
              "      <th>Mean_DM</th>\n",
              "      <th>Standard_deviation_DM</th>\n",
              "      <th>Excess_DM</th>\n",
              "      <th>Skewness_DM</th>\n",
              "      <th>target_class</th>\n",
              "    </tr>\n",
              "  </thead>\n",
              "  <tbody>\n",
              "    <tr>\n",
              "      <th>0</th>\n",
              "      <td>121.15625</td>\n",
              "      <td>48.37297113</td>\n",
              "      <td>0.375484665</td>\n",
              "      <td>-0.013165488999999999</td>\n",
              "      <td>3.168896321</td>\n",
              "      <td>18.399366600000004</td>\n",
              "      <td>7.449874148999999</td>\n",
              "      <td>65.15929771</td>\n",
              "      <td>0.0</td>\n",
              "    </tr>\n",
              "    <tr>\n",
              "      <th>1</th>\n",
              "      <td>76.96875</td>\n",
              "      <td>36.17555664</td>\n",
              "      <td>0.71289786</td>\n",
              "      <td>3.3887185630000003</td>\n",
              "      <td>2.399665552</td>\n",
              "      <td>17.57099693</td>\n",
              "      <td>9.414652256</td>\n",
              "      <td>102.7229747</td>\n",
              "      <td>0.0</td>\n",
              "    </tr>\n",
              "    <tr>\n",
              "      <th>2</th>\n",
              "      <td>130.5859375</td>\n",
              "      <td>53.22953353</td>\n",
              "      <td>0.133408289</td>\n",
              "      <td>-0.297241641</td>\n",
              "      <td>2.743311037</td>\n",
              "      <td>22.36255299</td>\n",
              "      <td>8.508363784</td>\n",
              "      <td>74.03132420000001</td>\n",
              "      <td>0.0</td>\n",
              "    </tr>\n",
              "    <tr>\n",
              "      <th>3</th>\n",
              "      <td>156.3984375</td>\n",
              "      <td>48.86594223</td>\n",
              "      <td>-0.215988596</td>\n",
              "      <td>-0.171293649</td>\n",
              "      <td>17.47157191</td>\n",
              "      <td>NaN</td>\n",
              "      <td>2.9580659430000003</td>\n",
              "      <td>7.197841911</td>\n",
              "      <td>0.0</td>\n",
              "    </tr>\n",
              "    <tr>\n",
              "      <th>4</th>\n",
              "      <td>84.8046875</td>\n",
              "      <td>36.11765898</td>\n",
              "      <td>0.825012787</td>\n",
              "      <td>3.274125373</td>\n",
              "      <td>2.7901337789999996</td>\n",
              "      <td>20.61800857</td>\n",
              "      <td>8.405008383</td>\n",
              "      <td>76.29112787</td>\n",
              "      <td>0.0</td>\n",
              "    </tr>\n",
              "  </tbody>\n",
              "</table>\n",
              "</div>\n",
              "    <div class=\"colab-df-buttons\">\n",
              "\n",
              "  <div class=\"colab-df-container\">\n",
              "    <button class=\"colab-df-convert\" onclick=\"convertToInteractive('df-2e1a3c0b-9efe-40d5-9821-f896baaf7fec')\"\n",
              "            title=\"Convert this dataframe to an interactive table.\"\n",
              "            style=\"display:none;\">\n",
              "\n",
              "  <svg xmlns=\"http://www.w3.org/2000/svg\" height=\"24px\" viewBox=\"0 -960 960 960\">\n",
              "    <path d=\"M120-120v-720h720v720H120Zm60-500h600v-160H180v160Zm220 220h160v-160H400v160Zm0 220h160v-160H400v160ZM180-400h160v-160H180v160Zm440 0h160v-160H620v160ZM180-180h160v-160H180v160Zm440 0h160v-160H620v160Z\"/>\n",
              "  </svg>\n",
              "    </button>\n",
              "\n",
              "  <style>\n",
              "    .colab-df-container {\n",
              "      display:flex;\n",
              "      gap: 12px;\n",
              "    }\n",
              "\n",
              "    .colab-df-convert {\n",
              "      background-color: #E8F0FE;\n",
              "      border: none;\n",
              "      border-radius: 50%;\n",
              "      cursor: pointer;\n",
              "      display: none;\n",
              "      fill: #1967D2;\n",
              "      height: 32px;\n",
              "      padding: 0 0 0 0;\n",
              "      width: 32px;\n",
              "    }\n",
              "\n",
              "    .colab-df-convert:hover {\n",
              "      background-color: #E2EBFA;\n",
              "      box-shadow: 0px 1px 2px rgba(60, 64, 67, 0.3), 0px 1px 3px 1px rgba(60, 64, 67, 0.15);\n",
              "      fill: #174EA6;\n",
              "    }\n",
              "\n",
              "    .colab-df-buttons div {\n",
              "      margin-bottom: 4px;\n",
              "    }\n",
              "\n",
              "    [theme=dark] .colab-df-convert {\n",
              "      background-color: #3B4455;\n",
              "      fill: #D2E3FC;\n",
              "    }\n",
              "\n",
              "    [theme=dark] .colab-df-convert:hover {\n",
              "      background-color: #434B5C;\n",
              "      box-shadow: 0px 1px 3px 1px rgba(0, 0, 0, 0.15);\n",
              "      filter: drop-shadow(0px 1px 2px rgba(0, 0, 0, 0.3));\n",
              "      fill: #FFFFFF;\n",
              "    }\n",
              "  </style>\n",
              "\n",
              "    <script>\n",
              "      const buttonEl =\n",
              "        document.querySelector('#df-2e1a3c0b-9efe-40d5-9821-f896baaf7fec button.colab-df-convert');\n",
              "      buttonEl.style.display =\n",
              "        google.colab.kernel.accessAllowed ? 'block' : 'none';\n",
              "\n",
              "      async function convertToInteractive(key) {\n",
              "        const element = document.querySelector('#df-2e1a3c0b-9efe-40d5-9821-f896baaf7fec');\n",
              "        const dataTable =\n",
              "          await google.colab.kernel.invokeFunction('convertToInteractive',\n",
              "                                                    [key], {});\n",
              "        if (!dataTable) return;\n",
              "\n",
              "        const docLinkHtml = 'Like what you see? Visit the ' +\n",
              "          '<a target=\"_blank\" href=https://colab.research.google.com/notebooks/data_table.ipynb>data table notebook</a>'\n",
              "          + ' to learn more about interactive tables.';\n",
              "        element.innerHTML = '';\n",
              "        dataTable['output_type'] = 'display_data';\n",
              "        await google.colab.output.renderOutput(dataTable, element);\n",
              "        const docLink = document.createElement('div');\n",
              "        docLink.innerHTML = docLinkHtml;\n",
              "        element.appendChild(docLink);\n",
              "      }\n",
              "    </script>\n",
              "  </div>\n",
              "\n",
              "\n",
              "<div id=\"df-b69400d2-b2e2-48e0-a078-820a59ab01a3\">\n",
              "  <button class=\"colab-df-quickchart\" onclick=\"quickchart('df-b69400d2-b2e2-48e0-a078-820a59ab01a3')\"\n",
              "            title=\"Suggest charts.\"\n",
              "            style=\"display:none;\">\n",
              "\n",
              "<svg xmlns=\"http://www.w3.org/2000/svg\" height=\"24px\"viewBox=\"0 0 24 24\"\n",
              "     width=\"24px\">\n",
              "    <g>\n",
              "        <path d=\"M19 3H5c-1.1 0-2 .9-2 2v14c0 1.1.9 2 2 2h14c1.1 0 2-.9 2-2V5c0-1.1-.9-2-2-2zM9 17H7v-7h2v7zm4 0h-2V7h2v10zm4 0h-2v-4h2v4z\"/>\n",
              "    </g>\n",
              "</svg>\n",
              "  </button>\n",
              "\n",
              "<style>\n",
              "  .colab-df-quickchart {\n",
              "      --bg-color: #E8F0FE;\n",
              "      --fill-color: #1967D2;\n",
              "      --hover-bg-color: #E2EBFA;\n",
              "      --hover-fill-color: #174EA6;\n",
              "      --disabled-fill-color: #AAA;\n",
              "      --disabled-bg-color: #DDD;\n",
              "  }\n",
              "\n",
              "  [theme=dark] .colab-df-quickchart {\n",
              "      --bg-color: #3B4455;\n",
              "      --fill-color: #D2E3FC;\n",
              "      --hover-bg-color: #434B5C;\n",
              "      --hover-fill-color: #FFFFFF;\n",
              "      --disabled-bg-color: #3B4455;\n",
              "      --disabled-fill-color: #666;\n",
              "  }\n",
              "\n",
              "  .colab-df-quickchart {\n",
              "    background-color: var(--bg-color);\n",
              "    border: none;\n",
              "    border-radius: 50%;\n",
              "    cursor: pointer;\n",
              "    display: none;\n",
              "    fill: var(--fill-color);\n",
              "    height: 32px;\n",
              "    padding: 0;\n",
              "    width: 32px;\n",
              "  }\n",
              "\n",
              "  .colab-df-quickchart:hover {\n",
              "    background-color: var(--hover-bg-color);\n",
              "    box-shadow: 0 1px 2px rgba(60, 64, 67, 0.3), 0 1px 3px 1px rgba(60, 64, 67, 0.15);\n",
              "    fill: var(--button-hover-fill-color);\n",
              "  }\n",
              "\n",
              "  .colab-df-quickchart-complete:disabled,\n",
              "  .colab-df-quickchart-complete:disabled:hover {\n",
              "    background-color: var(--disabled-bg-color);\n",
              "    fill: var(--disabled-fill-color);\n",
              "    box-shadow: none;\n",
              "  }\n",
              "\n",
              "  .colab-df-spinner {\n",
              "    border: 2px solid var(--fill-color);\n",
              "    border-color: transparent;\n",
              "    border-bottom-color: var(--fill-color);\n",
              "    animation:\n",
              "      spin 1s steps(1) infinite;\n",
              "  }\n",
              "\n",
              "  @keyframes spin {\n",
              "    0% {\n",
              "      border-color: transparent;\n",
              "      border-bottom-color: var(--fill-color);\n",
              "      border-left-color: var(--fill-color);\n",
              "    }\n",
              "    20% {\n",
              "      border-color: transparent;\n",
              "      border-left-color: var(--fill-color);\n",
              "      border-top-color: var(--fill-color);\n",
              "    }\n",
              "    30% {\n",
              "      border-color: transparent;\n",
              "      border-left-color: var(--fill-color);\n",
              "      border-top-color: var(--fill-color);\n",
              "      border-right-color: var(--fill-color);\n",
              "    }\n",
              "    40% {\n",
              "      border-color: transparent;\n",
              "      border-right-color: var(--fill-color);\n",
              "      border-top-color: var(--fill-color);\n",
              "    }\n",
              "    60% {\n",
              "      border-color: transparent;\n",
              "      border-right-color: var(--fill-color);\n",
              "    }\n",
              "    80% {\n",
              "      border-color: transparent;\n",
              "      border-right-color: var(--fill-color);\n",
              "      border-bottom-color: var(--fill-color);\n",
              "    }\n",
              "    90% {\n",
              "      border-color: transparent;\n",
              "      border-bottom-color: var(--fill-color);\n",
              "    }\n",
              "  }\n",
              "</style>\n",
              "\n",
              "  <script>\n",
              "    async function quickchart(key) {\n",
              "      const quickchartButtonEl =\n",
              "        document.querySelector('#' + key + ' button');\n",
              "      quickchartButtonEl.disabled = true;  // To prevent multiple clicks.\n",
              "      quickchartButtonEl.classList.add('colab-df-spinner');\n",
              "      try {\n",
              "        const charts = await google.colab.kernel.invokeFunction(\n",
              "            'suggestCharts', [key], {});\n",
              "      } catch (error) {\n",
              "        console.error('Error during call to suggestCharts:', error);\n",
              "      }\n",
              "      quickchartButtonEl.classList.remove('colab-df-spinner');\n",
              "      quickchartButtonEl.classList.add('colab-df-quickchart-complete');\n",
              "    }\n",
              "    (() => {\n",
              "      let quickchartButtonEl =\n",
              "        document.querySelector('#df-b69400d2-b2e2-48e0-a078-820a59ab01a3 button');\n",
              "      quickchartButtonEl.style.display =\n",
              "        google.colab.kernel.accessAllowed ? 'block' : 'none';\n",
              "    })();\n",
              "  </script>\n",
              "</div>\n",
              "    </div>\n",
              "  </div>\n"
            ]
          },
          "metadata": {},
          "execution_count": 2
        }
      ],
      "source": [
        "import pandas as pd\n",
        "column_names = ['Mean_integrated', 'Standard_deviation_integrated', 'Excess_integrated', 'Skewness_integrated', 'Mean_DM', 'Standard_deviation_DM', 'Excess_DM', 'Skewness_DM', 'target_class']\n",
        "df = pd.read_csv('/content/drive/MyDrive/Colab Notebooks/ML_Lab_09_Dataset/pulsar_data_train.csv', names=column_names)\n",
        "df.columns = column_names\n",
        "df = df.drop(0, axis=0)\n",
        "df.reset_index(drop=True, inplace=True)\n",
        "df.head()"
      ]
    },
    {
      "cell_type": "code",
      "execution_count": 3,
      "metadata": {
        "colab": {
          "base_uri": "https://localhost:8080/"
        },
        "id": "plX-gQiV6I05",
        "outputId": "19273807-d9ad-4963-c518-b2695a96df19"
      },
      "outputs": [
        {
          "output_type": "execute_result",
          "data": {
            "text/plain": [
              "array(['0.0', '1.0'], dtype=object)"
            ]
          },
          "metadata": {},
          "execution_count": 3
        }
      ],
      "source": [
        "distinct_values = df['target_class'].unique()\n",
        "distinct_values"
      ]
    },
    {
      "cell_type": "code",
      "execution_count": 4,
      "metadata": {
        "id": "QIfMPiff_Huv"
      },
      "outputs": [],
      "source": [
        "import numpy as np\n",
        "def handle_missing_column_using_average(df, column_name):\n",
        "    df[column_name] = df[column_name].replace(to_replace='.*\\?.*', value=np.nan, regex=True)\n",
        "    missing_indices = df[df[column_name].isnull()].index\n",
        "    non_missing_indices = df[df[column_name].notnull()].index\n",
        "\n",
        "    df[column_name] = pd.to_numeric(df[column_name], errors='coerce')\n",
        "    df[column_name] = df[column_name].astype(float)\n",
        "\n",
        "    if len(missing_indices) < len(non_missing_indices):\n",
        "        column_mean = df.loc[non_missing_indices, column_name].mean()\n",
        "        df[column_name] = df[column_name].fillna(column_mean)\n",
        "    else:\n",
        "        print('Dropping the column')\n",
        "        df = df.drop(columns=[column_name])\n",
        "    return df"
      ]
    },
    {
      "cell_type": "code",
      "execution_count": 5,
      "metadata": {
        "id": "XOsm6xAsEHuD"
      },
      "outputs": [],
      "source": [
        "handle_missing_from = ['Mean_integrated', 'Standard_deviation_integrated', 'Excess_integrated', 'Skewness_integrated', 'Mean_DM', 'Standard_deviation_DM', 'Excess_DM', 'Skewness_DM', 'target_class']\n",
        "for column_name in handle_missing_from:\n",
        "    df = handle_missing_column_using_average(df, column_name)"
      ]
    },
    {
      "cell_type": "code",
      "execution_count": 6,
      "metadata": {
        "id": "60tpBXiuE0nl"
      },
      "outputs": [],
      "source": [
        "from sklearn.svm import SVC\n",
        "from sklearn.metrics import accuracy_score\n",
        "\n",
        "def svm_classification(X_train, y_train, X_test, y_test, kernel_type = \"rbf\", C_value = 1.0):\n",
        "    svm_classifier = SVC(kernel=kernel_type, C=C_value)\n",
        "    svm_classifier.fit(X_train, y_train)\n",
        "    spv = svm_classifier.support_vectors_\n",
        "\n",
        "    predictions = svm_classifier.predict(X_test)\n",
        "    accuracy = accuracy_score(y_test, predictions)\n",
        "    return accuracy, spv"
      ]
    },
    {
      "cell_type": "code",
      "execution_count": 7,
      "metadata": {
        "id": "DNxmpMoVOFnu"
      },
      "outputs": [],
      "source": [
        "from sklearn.model_selection import train_test_split\n",
        "X = df.drop(columns=['target_class'])\n",
        "y = df['target_class']\n",
        "X_train, X_test, y_train, y_test = train_test_split(X, y, test_size=0.2, random_state=42)"
      ]
    },
    {
      "cell_type": "code",
      "execution_count": 8,
      "metadata": {
        "colab": {
          "base_uri": "https://localhost:8080/"
        },
        "id": "Sa-q8-EBM16p",
        "outputId": "d5ce8454-ed31-4615-d21b-f7e2f23523f6"
      },
      "outputs": [
        {
          "output_type": "stream",
          "name": "stdout",
          "text": [
            "-------------------------------- Kernel type : Default, C = Default --------------------------------\n",
            "Accuracy  : 0.9712689545091779\n",
            "Length of support vectors : 798\n",
            "Support Vectors are : [[104.6328125   39.42791506   0.7203118  ...  56.12704133   2.43227554\n",
            "    4.55664701]\n",
            " [ 99.5234375   38.97173752   0.47854775 ...  84.22760906  -0.26243038\n",
            "   -1.83975556]\n",
            " [ 86.5390625   40.53083362   0.57331779 ...  30.62361678   5.20642242\n",
            "   27.59424509]\n",
            " ...\n",
            " [ 78.21875     40.63787056   0.47854775 ...  54.93860141   2.49255747\n",
            "    4.84307024]\n",
            " [ 82.3828125   46.59803528   0.47854775 ...  26.35131817  -0.71019292\n",
            "   -0.52754931]\n",
            " [ 68.46875     40.7509466    2.09317056 ...  32.9225058   -0.73159583\n",
            "    0.30930043]]\n"
          ]
        }
      ],
      "source": [
        "kernel_type = \"Default\"\n",
        "C_value = \"Default\"\n",
        "accuracy, spv = svm_classification(X_train, y_train, X_test, y_test)\n",
        "print('--------------------------------'+ ' Kernel type : '+ kernel_type + ', C = ' + str(C_value) +' --------------------------------')\n",
        "print(\"Accuracy  : \" + str(accuracy))\n",
        "print(\"Length of support vectors : \" + str(len(spv)))\n",
        "print(\"Support Vectors are : \" + str(spv))"
      ]
    },
    {
      "cell_type": "code",
      "execution_count": 9,
      "metadata": {
        "colab": {
          "base_uri": "https://localhost:8080/"
        },
        "id": "5_AUNjFaOQHD",
        "outputId": "7f6f9487-1a28-4db2-bcf8-50145f5e8351"
      },
      "outputs": [
        {
          "output_type": "stream",
          "name": "stdout",
          "text": [
            "-------------------------------- Kernel type : linear, C = 1.0 --------------------------------\n",
            "Accuracy  : 0.9776536312849162\n",
            "Length of support vectors : 619\n",
            "Support Vectors are : [[104.6328125   39.42791506   0.7203118  ...  56.12704133   2.43227554\n",
            "    4.55664701]\n",
            " [ 83.890625    35.33792986   0.86927906 ...  18.12769733   9.69823442\n",
            "  104.8946747 ]\n",
            " [ 80.109375    40.66809913   0.89818377 ...  30.8448161    5.22924537\n",
            "   27.46113518]\n",
            " ...\n",
            " [ 78.21875     40.63787056   0.47854775 ...  54.93860141   2.49255747\n",
            "    4.84307024]\n",
            " [ 82.3828125   46.59803528   0.47854775 ...  26.35131817  -0.71019292\n",
            "   -0.52754931]\n",
            " [ 68.46875     40.7509466    2.09317056 ...  32.9225058   -0.73159583\n",
            "    0.30930043]]\n",
            "\n",
            "-------------------------------- Kernel type : linear, C = 100.0 --------------------------------\n",
            "Accuracy  : 0.9780526735833999\n",
            "Length of support vectors : 520\n",
            "Support Vectors are : [[104.6328125   39.42791506   0.7203118  ...  56.12704133   2.43227554\n",
            "    4.55664701]\n",
            " [ 80.109375    40.66809913   0.89818377 ...  30.8448161    5.22924537\n",
            "   27.46113518]\n",
            " [102.25        48.12613635   0.93826581 ...  65.76496555   0.86739657\n",
            "   -0.32163683]\n",
            " ...\n",
            " [ 78.21875     40.63787056   0.47854775 ...  54.93860141   2.49255747\n",
            "    4.84307024]\n",
            " [ 82.3828125   46.59803528   0.47854775 ...  26.35131817  -0.71019292\n",
            "   -0.52754931]\n",
            " [ 68.46875     40.7509466    2.09317056 ...  32.9225058   -0.73159583\n",
            "    0.30930043]]\n",
            "\n",
            "-------------------------------- Kernel type : linear, C = 10000.0 --------------------------------\n",
            "Accuracy  : 0.9780526735833999\n",
            "Length of support vectors : 451\n",
            "Support Vectors are : [[133.125       50.13388325   0.47854775 ...  36.63292386   4.71868726\n",
            "   22.2233079 ]\n",
            " [ 88.109375    36.96582763   0.73136003 ...  24.43304765   6.85336869\n",
            "   49.06597862]\n",
            " [ 76.1328125   38.57245032   0.7767619  ...  15.89004946  12.077188\n",
            "  150.9596535 ]\n",
            " ...\n",
            " [ 60.6328125   47.56473731   0.47854775 ...  89.54225828   0.38388722\n",
            "   -1.31902556]\n",
            " [ 78.21875     40.63787056   0.47854775 ...  54.93860141   2.49255747\n",
            "    4.84307024]\n",
            " [ 82.3828125   46.59803528   0.47854775 ...  26.35131817  -0.71019292\n",
            "   -0.52754931]]\n",
            "\n"
          ]
        }
      ],
      "source": [
        "kernel_type = \"linear\"\n",
        "C_values = [1.0, 100.0, 10000.0]\n",
        "linear_accuracy = []\n",
        "for C_value in C_values:\n",
        "    print('--------------------------------'+ ' Kernel type : '+ kernel_type + ', C = ' + str(C_value) +' --------------------------------')\n",
        "    accuracy, spv = svm_classification(X_train, y_train, X_test, y_test, kernel_type, C_value)\n",
        "    linear_accuracy.append(accuracy)\n",
        "    print(\"Accuracy  : \" + str(accuracy))\n",
        "    print(\"Length of support vectors : \" + str(len(spv)))\n",
        "    print(\"Support Vectors are : \" + str(spv))\n",
        "    print()"
      ]
    },
    {
      "cell_type": "code",
      "execution_count": 10,
      "metadata": {
        "colab": {
          "base_uri": "https://localhost:8080/"
        },
        "id": "g9GfuGkHHilk",
        "outputId": "0cfe91e2-19c3-415a-db51-c580bbd25787"
      },
      "outputs": [
        {
          "output_type": "stream",
          "name": "stdout",
          "text": [
            "-------------------------------- Kernel type : poly, C = 1.0 --------------------------------\n",
            "Accuracy  : 0.9720670391061452\n",
            "Length of support vectors : 969\n",
            "Support Vectors are : [[104.6328125   39.42791506   0.7203118  ...  56.12704133   2.43227554\n",
            "    4.55664701]\n",
            " [ 99.5234375   38.97173752   0.47854775 ...  84.22760906  -0.26243038\n",
            "   -1.83975556]\n",
            " [ 86.5390625   40.53083362   0.57331779 ...  30.62361678   5.20642242\n",
            "   27.59424509]\n",
            " ...\n",
            " [ 78.21875     40.63787056   0.47854775 ...  54.93860141   2.49255747\n",
            "    4.84307024]\n",
            " [ 82.3828125   46.59803528   0.47854775 ...  26.35131817  -0.71019292\n",
            "   -0.52754931]\n",
            " [ 68.46875     40.7509466    2.09317056 ...  32.9225058   -0.73159583\n",
            "    0.30930043]]\n",
            "\n",
            "-------------------------------- Kernel type : poly, C = 100.0 --------------------------------\n",
            "Accuracy  : 0.9776536312849162\n",
            "Length of support vectors : 723\n",
            "Support Vectors are : [[104.6328125   39.42791506   0.7203118  ...  56.12704133   2.43227554\n",
            "    4.55664701]\n",
            " [ 99.5234375   38.97173752   0.47854775 ...  84.22760906  -0.26243038\n",
            "   -1.83975556]\n",
            " [ 86.5390625   40.53083362   0.57331779 ...  30.62361678   5.20642242\n",
            "   27.59424509]\n",
            " ...\n",
            " [ 78.21875     40.63787056   0.47854775 ...  54.93860141   2.49255747\n",
            "    4.84307024]\n",
            " [ 82.3828125   46.59803528   0.47854775 ...  26.35131817  -0.71019292\n",
            "   -0.52754931]\n",
            " [ 68.46875     40.7509466    2.09317056 ...  32.9225058   -0.73159583\n",
            "    0.30930043]]\n",
            "\n",
            "-------------------------------- Kernel type : poly, C = 10000.0 --------------------------------\n",
            "Accuracy  : 0.9808459696727854\n",
            "Length of support vectors : 565\n",
            "Support Vectors are : [[104.6328125   39.42791506   0.7203118  ...  56.12704133   2.43227554\n",
            "    4.55664701]\n",
            " [ 80.109375    40.66809913   0.89818377 ...  30.8448161    5.22924537\n",
            "   27.46113518]\n",
            " [102.25        48.12613635   0.93826581 ...  65.76496555   0.86739657\n",
            "   -0.32163683]\n",
            " ...\n",
            " [ 78.21875     40.63787056   0.47854775 ...  54.93860141   2.49255747\n",
            "    4.84307024]\n",
            " [ 82.3828125   46.59803528   0.47854775 ...  26.35131817  -0.71019292\n",
            "   -0.52754931]\n",
            " [ 68.46875     40.7509466    2.09317056 ...  32.9225058   -0.73159583\n",
            "    0.30930043]]\n",
            "\n"
          ]
        }
      ],
      "source": [
        "kernel_type = \"poly\"\n",
        "C_values = [1.0, 100.0, 10000.0]\n",
        "poly_accuracy = []\n",
        "for C_value in C_values:\n",
        "    print('--------------------------------'+ ' Kernel type : '+ kernel_type + ', C = ' + str(C_value) +' --------------------------------')\n",
        "    accuracy, spv = svm_classification(X_train, y_train, X_test, y_test, kernel_type, C_value)\n",
        "    poly_accuracy.append(accuracy)\n",
        "    print(\"Accuracy  : \" + str(accuracy))\n",
        "    print(\"Length of support vectors : \" + str(len(spv)))\n",
        "    print(\"Support Vectors are : \" + str(spv))\n",
        "    print()"
      ]
    },
    {
      "cell_type": "code",
      "execution_count": 11,
      "metadata": {
        "colab": {
          "base_uri": "https://localhost:8080/"
        },
        "id": "4LUrQeBhIaf5",
        "outputId": "d777f80b-f32e-4d07-efcb-7490cb049c10"
      },
      "outputs": [
        {
          "output_type": "stream",
          "name": "stdout",
          "text": [
            "-------------------------------- Kernel type : sigmoid, C = 1.0 --------------------------------\n",
            "Accuracy  : 0.9074221867517956\n",
            "Length of support vectors : 883\n",
            "Support Vectors are : [[ 9.95234375e+01  3.89717375e+01  4.78547749e-01 ...  8.42276091e+01\n",
            "  -2.62430376e-01 -1.83975556e+00]\n",
            " [ 1.32976562e+02  4.58447558e+01  1.41114220e-01 ...  9.04355128e+01\n",
            "   2.47558663e-01 -1.86982359e+00]\n",
            " [ 1.24640625e+02  5.01706049e+01  3.28036668e-01 ...  2.63513182e+01\n",
            "   1.96964490e+01  4.80272240e+02]\n",
            " ...\n",
            " [ 7.82187500e+01  4.06378706e+01  4.78547749e-01 ...  5.49386014e+01\n",
            "   2.49255747e+00  4.84307024e+00]\n",
            " [ 4.18906250e+01  2.86834105e+01  4.70713392e+00 ...  4.40377782e+01\n",
            "   3.73938748e+00  1.36132958e+01]\n",
            " [ 8.23828125e+01  4.65980353e+01  4.78547749e-01 ...  2.63513182e+01\n",
            "  -7.10192918e-01 -5.27549306e-01]]\n",
            "\n",
            "-------------------------------- Kernel type : sigmoid, C = 100.0 --------------------------------\n",
            "Accuracy  : 0.9034317637669593\n",
            "Length of support vectors : 851\n",
            "Support Vectors are : [[ 9.95234375e+01  3.89717375e+01  4.78547749e-01 ...  8.42276091e+01\n",
            "  -2.62430376e-01 -1.83975556e+00]\n",
            " [ 1.32976562e+02  4.58447558e+01  1.41114220e-01 ...  9.04355128e+01\n",
            "   2.47558663e-01 -1.86982359e+00]\n",
            " [ 1.24640625e+02  5.01706049e+01  3.28036668e-01 ...  2.63513182e+01\n",
            "   1.96964490e+01  4.80272240e+02]\n",
            " ...\n",
            " [ 7.82187500e+01  4.06378706e+01  4.78547749e-01 ...  5.49386014e+01\n",
            "   2.49255747e+00  4.84307024e+00]\n",
            " [ 4.18906250e+01  2.86834105e+01  4.70713392e+00 ...  4.40377782e+01\n",
            "   3.73938748e+00  1.36132958e+01]\n",
            " [ 8.23828125e+01  4.65980353e+01  4.78547749e-01 ...  2.63513182e+01\n",
            "  -7.10192918e-01 -5.27549306e-01]]\n",
            "\n",
            "-------------------------------- Kernel type : sigmoid, C = 10000.0 --------------------------------\n",
            "Accuracy  : 0.9034317637669593\n",
            "Length of support vectors : 851\n",
            "Support Vectors are : [[ 9.95234375e+01  3.89717375e+01  4.78547749e-01 ...  8.42276091e+01\n",
            "  -2.62430376e-01 -1.83975556e+00]\n",
            " [ 1.32976562e+02  4.58447558e+01  1.41114220e-01 ...  9.04355128e+01\n",
            "   2.47558663e-01 -1.86982359e+00]\n",
            " [ 1.24640625e+02  5.01706049e+01  3.28036668e-01 ...  2.63513182e+01\n",
            "   1.96964490e+01  4.80272240e+02]\n",
            " ...\n",
            " [ 7.82187500e+01  4.06378706e+01  4.78547749e-01 ...  5.49386014e+01\n",
            "   2.49255747e+00  4.84307024e+00]\n",
            " [ 4.18906250e+01  2.86834105e+01  4.70713392e+00 ...  4.40377782e+01\n",
            "   3.73938748e+00  1.36132958e+01]\n",
            " [ 8.23828125e+01  4.65980353e+01  4.78547749e-01 ...  2.63513182e+01\n",
            "  -7.10192918e-01 -5.27549306e-01]]\n",
            "\n"
          ]
        }
      ],
      "source": [
        "kernel_type = \"sigmoid\"\n",
        "C_values = [1.0, 100.0, 10000.0]\n",
        "sigmoid_accuracy = []\n",
        "for C_value in C_values:\n",
        "    print('--------------------------------'+ ' Kernel type : '+ kernel_type + ', C = ' + str(C_value) +' --------------------------------')\n",
        "    accuracy, spv = svm_classification(X_train, y_train, X_test, y_test, kernel_type, C_value)\n",
        "    sigmoid_accuracy.append(accuracy)\n",
        "    print(\"Accuracy  : \" + str(accuracy))\n",
        "    print(\"Length of support vectors : \" + str(len(spv)))\n",
        "    print(\"Support Vectors are : \" + str(spv))\n",
        "    print()"
      ]
    },
    {
      "cell_type": "code",
      "source": [
        "import matplotlib.pyplot as plt\n",
        "\n",
        "plt.xlabel(\"C_values\")\n",
        "plt.ylabel(\"Accuracy\")\n",
        "bar_labels = [\"1.0\", \"100.0\", \"10000.0\"]\n",
        "colors = [\"red\", \"blue\", \"green\"]\n",
        "model = [\"Linear\", \"Polynomial\", \"Sigmoid\"]\n",
        "accuracy_model1 = linear_accuracy\n",
        "accuracy_model2 = poly_accuracy\n",
        "accuracy_model3 = sigmoid_accuracy\n",
        "\n",
        "# Plot line chart for each model\n",
        "plt.plot(bar_labels, accuracy_model1, color=colors[0], marker='o', label=model[0])\n",
        "plt.plot(bar_labels, accuracy_model2, color=colors[1], marker='o', label=model[1])\n",
        "plt.plot(bar_labels, accuracy_model3, color=colors[2], marker='o', label=model[2])\n",
        "\n",
        "plt.legend()\n",
        "plt.title(\"Accuracy vs. C_values for Different Models (Line Chart)\")\n",
        "plt.grid(True)\n",
        "plt.show()\n"
      ],
      "metadata": {
        "colab": {
          "base_uri": "https://localhost:8080/",
          "height": 472
        },
        "id": "ILDhbbIphMWC",
        "outputId": "8bee2509-8614-48e3-e3c7-02cd0b775d11"
      },
      "execution_count": 31,
      "outputs": [
        {
          "output_type": "display_data",
          "data": {
            "text/plain": [
              "<Figure size 640x480 with 1 Axes>"
            ],
            "image/png": "[encoded data removed]"
          },
          "metadata": {}
        }
      ]
    },
    {
      "cell_type": "markdown",
      "metadata": {
        "id": "HF7NlSgqfLWt"
      },
      "source": [
        "# EXTRA 01 :    \n",
        "Converting high dimension data into 2D data and then applying SVM Classifier"
      ]
    },
    {
      "cell_type": "code",
      "execution_count": 13,
      "metadata": {
        "colab": {
          "base_uri": "https://localhost:8080/"
        },
        "id": "bux703FcfKqq",
        "outputId": "fbcff602-e07e-47ea-91fc-8fb0d1fc760e"
      },
      "outputs": [
        {
          "output_type": "stream",
          "name": "stdout",
          "text": [
            "        new1       new2  target_class\n",
            "0 -37.654084 -21.228464           0.0\n",
            "1  -2.147997   6.168502           0.0\n",
            "2 -28.808394 -23.846353           0.0\n",
            "3 -95.991713 -33.115267           0.0\n",
            "4 -28.321485  -0.067867           0.0\n"
          ]
        }
      ],
      "source": [
        "# Converting multidimensional data into 2-D data\n",
        "from sklearn.decomposition import PCA\n",
        "import pandas as pd\n",
        "pca = PCA(n_components=2)\n",
        "X_2d = pca.fit_transform(X)\n",
        "df_2d = pd.DataFrame(data=X_2d, columns=['new1', 'new2'])\n",
        "df_2d['target_class'] = y\n",
        "print(df_2d.head())"
      ]
    },
    {
      "cell_type": "code",
      "execution_count": 14,
      "metadata": {
        "colab": {
          "base_uri": "https://localhost:8080/",
          "height": 564
        },
        "id": "8aFCcuJ7hC8l",
        "outputId": "f71bde8b-f355-48c4-b2cf-179c08dec93f"
      },
      "outputs": [
        {
          "output_type": "display_data",
          "data": {
            "text/plain": [
              "<Figure size 800x600 with 1 Axes>"
            ],
            "image/png": "[encoded data removed]"
          },
          "metadata": {}
        }
      ],
      "source": [
        "import matplotlib.pyplot as plt\n",
        "plt.figure(figsize=(8, 6))\n",
        "targets = df_2d['target_class'].unique()\n",
        "colors = ['b', 'r']\n",
        "for target, color in zip(targets, colors):\n",
        "    indices = df_2d['target_class'] == target\n",
        "    plt.scatter(df_2d.loc[indices, 'new1'], df_2d.loc[indices, 'new2'], c=color, label=target)\n",
        "\n",
        "plt.xlabel('new1')\n",
        "plt.ylabel('new2')\n",
        "plt.title('2D ata Visualization after PCA')\n",
        "plt.legend()\n",
        "plt.show()"
      ]
    },
    {
      "cell_type": "code",
      "execution_count": 15,
      "metadata": {
        "id": "-c7KSxSKkBCw"
      },
      "outputs": [],
      "source": [
        "X = df_2d.drop(columns=['target_class'])\n",
        "y = df_2d['target_class']\n",
        "X_train, X_test, y_train, y_test = train_test_split(X, y, test_size=0.2, random_state=42)"
      ]
    },
    {
      "cell_type": "code",
      "execution_count": 16,
      "metadata": {
        "colab": {
          "base_uri": "https://localhost:8080/"
        },
        "id": "N_s-xzSfX9gW",
        "outputId": "2169d003-a2e4-4ff4-8a2e-4a8cd82edb20"
      },
      "outputs": [
        {
          "output_type": "stream",
          "name": "stdout",
          "text": [
            "-------------------------------- Kernel type : linear, C = 1.0 --------------------------------\n",
            "Accuracy  : 0.9150039904229849\n",
            "Length of support vectors : 1578\n",
            "Support Vectors are : [[-104.14854596    7.13163502]\n",
            " [-121.76966948   77.18482886]\n",
            " [-119.2307663    49.57489198]\n",
            " ...\n",
            " [-116.43080974   81.6061911 ]\n",
            " [-111.10705532   40.97518967]\n",
            " [-117.41752803   96.85254998]]\n",
            "\n",
            "-------------------------------- Kernel type : linear, C = 100.0 --------------------------------\n",
            "Accuracy  : 0.9130087789305666\n",
            "Length of support vectors : 1387\n",
            "Support Vectors are : [[-104.14854596    7.13163502]\n",
            " [ -93.99602833   -8.14107513]\n",
            " [-121.76966948   77.18482886]\n",
            " ...\n",
            " [-116.43080974   81.6061911 ]\n",
            " [-111.10705532   40.97518967]\n",
            " [-117.41752803   96.85254998]]\n",
            "\n",
            "-------------------------------- Kernel type : linear, C = 10000.0 --------------------------------\n",
            "Accuracy  : 0.9142059058260176\n",
            "Length of support vectors : 1178\n",
            "Support Vectors are : [[-104.14854596    7.13163502]\n",
            " [-121.76966948   77.18482886]\n",
            " [-119.2307663    49.57489198]\n",
            " ...\n",
            " [-116.43080974   81.6061911 ]\n",
            " [-111.10705532   40.97518967]\n",
            " [-117.41752803   96.85254998]]\n",
            "\n"
          ]
        }
      ],
      "source": [
        "kernel_type = \"linear\"\n",
        "C_values = [1.0, 100.0, 10000.0]\n",
        "for C_value in C_values:\n",
        "    print('--------------------------------'+ ' Kernel type : '+ kernel_type + ', C = ' + str(C_value) +' --------------------------------')\n",
        "    accuracy, spv = svm_classification(X_train, y_train, X_test, y_test, kernel_type, C_value)\n",
        "    print(\"Accuracy  : \" + str(accuracy))\n",
        "    print(\"Length of support vectors : \" + str(len(spv)))\n",
        "    print(\"Support Vectors are : \" + str(spv))\n",
        "    print()"
      ]
    },
    {
      "cell_type": "markdown",
      "metadata": {
        "id": "nunjhU6juNoY"
      },
      "source": [
        "# EXTRA 02 :    \n",
        "Choosing highly related columns from dataset and creating SVM classifier using that"
      ]
    },
    {
      "cell_type": "code",
      "execution_count": 17,
      "metadata": {
        "id": "fDb1UR_itC_a"
      },
      "outputs": [],
      "source": [
        "import pandas as pd\n",
        "from sklearn.ensemble import RandomForestClassifier\n",
        "\n",
        "# Assuming df is your DataFrame with the given column names\n",
        "column_names = ['Mean_integrated', 'Standard_deviation_integrated', 'Excess_integrated', 'Skewness_integrated', 'Mean_DM', 'Standard_deviation_DM', 'Excess_DM', 'Skewness_DM', 'target_class']\n",
        "\n",
        "# Read the data\n",
        "df = pd.read_csv('/content/drive/MyDrive/Colab Notebooks/ML_Lab_09_Dataset/pulsar_data_train.csv', names=column_names)\n",
        "df.columns = column_names\n",
        "df = df.drop(0, axis=0)\n",
        "df.reset_index(drop=True, inplace=True)\n",
        "\n",
        "# Dropping column where target_classis NaN\n",
        "df = df.dropna(subset=['target_class'])\n",
        "\n",
        "# Separate features and target variable\n",
        "X = df.drop(columns=['target_class'])\n",
        "y = df['target_class']"
      ]
    },
    {
      "cell_type": "code",
      "source": [
        "import numpy as np\n",
        "def handle_missing_column_using_average(df, column_name):\n",
        "    df[column_name] = df[column_name].replace(to_replace='.*\\?.*', value=np.nan, regex=True)\n",
        "    missing_indices = df[df[column_name].isnull()].index\n",
        "    non_missing_indices = df[df[column_name].notnull()].index\n",
        "\n",
        "    df[column_name] = pd.to_numeric(df[column_name], errors='coerce')\n",
        "    df[column_name] = df[column_name].astype(float)\n",
        "\n",
        "    if len(missing_indices) < len(non_missing_indices):\n",
        "        column_mean = df.loc[non_missing_indices, column_name].mean()\n",
        "        df[column_name] = df[column_name].fillna(column_mean)\n",
        "    else:\n",
        "        print('Dropping the column')\n",
        "        df = df.drop(columns=[column_name])\n",
        "    return df"
      ],
      "metadata": {
        "id": "pIH5jRtQ-VGV"
      },
      "execution_count": 18,
      "outputs": []
    },
    {
      "cell_type": "code",
      "source": [
        "handle_missing_from = ['Mean_integrated', 'Standard_deviation_integrated', 'Excess_integrated', 'Skewness_integrated', 'Mean_DM', 'Standard_deviation_DM', 'Excess_DM', 'Skewness_DM']\n",
        "for column_name in handle_missing_from:\n",
        "    X = handle_missing_column_using_average(X, column_name)"
      ],
      "metadata": {
        "id": "W6Reav4i1LIt"
      },
      "execution_count": 19,
      "outputs": []
    },
    {
      "cell_type": "code",
      "execution_count": 20,
      "metadata": {
        "id": "OiueCeUwuHrK",
        "colab": {
          "base_uri": "https://localhost:8080/"
        },
        "outputId": "1fe6268b-c09b-43b4-bf99-9b3d41f64013"
      },
      "outputs": [
        {
          "output_type": "stream",
          "name": "stdout",
          "text": [
            "Top 2 most relevant features:\n",
            "               Feature  Importance\n",
            "2    Excess_integrated    0.292572\n",
            "3  Skewness_integrated    0.248842\n"
          ]
        }
      ],
      "source": [
        "# Create a Random Forest classifier\n",
        "rf_classifier = RandomForestClassifier(random_state=42)\n",
        "\n",
        "# Fit the model to determine feature importance\n",
        "rf_classifier.fit(X, y)\n",
        "\n",
        "# Get feature importances from the trained model\n",
        "feature_importances = rf_classifier.feature_importances_\n",
        "\n",
        "# Create a DataFrame to store feature names and their importance scores\n",
        "feature_importance_df = pd.DataFrame({'Feature': X.columns, 'Importance': feature_importances})\n",
        "\n",
        "# Sort the features by importance in descending order\n",
        "sorted_feature_importance = feature_importance_df.sort_values(by='Importance', ascending=False)\n",
        "\n",
        "# Select the top 2 most relevant columns\n",
        "top_2_features = sorted_feature_importance.head(2)\n",
        "\n",
        "print(\"Top 2 most relevant features:\")\n",
        "print(top_2_features)"
      ]
    },
    {
      "cell_type": "code",
      "source": [
        "X = df[['Excess_integrated', 'Skewness_integrated']]\n",
        "y = df['target_class']"
      ],
      "metadata": {
        "id": "GmWxZaf004b5"
      },
      "execution_count": 21,
      "outputs": []
    },
    {
      "cell_type": "code",
      "source": [
        "handle_missing_from = ['Excess_integrated', 'Skewness_integrated']\n",
        "for column_name in handle_missing_from:\n",
        "    X = handle_missing_column_using_average(X, column_name)"
      ],
      "metadata": {
        "colab": {
          "base_uri": "https://localhost:8080/"
        },
        "id": "EZtIvi_X14gD",
        "outputId": "8280c010-9113-4fe9-c713-cd6a606fecdc"
      },
      "execution_count": 22,
      "outputs": [
        {
          "output_type": "stream",
          "name": "stderr",
          "text": [
            "<ipython-input-18-9b124a00fd07>:3: SettingWithCopyWarning: \n",
            "A value is trying to be set on a copy of a slice from a DataFrame.\n",
            "Try using .loc[row_indexer,col_indexer] = value instead\n",
            "\n",
            "See the caveats in the documentation: https://pandas.pydata.org/pandas-docs/stable/user_guide/indexing.html#returning-a-view-versus-a-copy\n",
            "  df[column_name] = df[column_name].replace(to_replace='.*\\?.*', value=np.nan, regex=True)\n",
            "<ipython-input-18-9b124a00fd07>:7: SettingWithCopyWarning: \n",
            "A value is trying to be set on a copy of a slice from a DataFrame.\n",
            "Try using .loc[row_indexer,col_indexer] = value instead\n",
            "\n",
            "See the caveats in the documentation: https://pandas.pydata.org/pandas-docs/stable/user_guide/indexing.html#returning-a-view-versus-a-copy\n",
            "  df[column_name] = pd.to_numeric(df[column_name], errors='coerce')\n",
            "<ipython-input-18-9b124a00fd07>:8: SettingWithCopyWarning: \n",
            "A value is trying to be set on a copy of a slice from a DataFrame.\n",
            "Try using .loc[row_indexer,col_indexer] = value instead\n",
            "\n",
            "See the caveats in the documentation: https://pandas.pydata.org/pandas-docs/stable/user_guide/indexing.html#returning-a-view-versus-a-copy\n",
            "  df[column_name] = df[column_name].astype(float)\n",
            "<ipython-input-18-9b124a00fd07>:12: SettingWithCopyWarning: \n",
            "A value is trying to be set on a copy of a slice from a DataFrame.\n",
            "Try using .loc[row_indexer,col_indexer] = value instead\n",
            "\n",
            "See the caveats in the documentation: https://pandas.pydata.org/pandas-docs/stable/user_guide/indexing.html#returning-a-view-versus-a-copy\n",
            "  df[column_name] = df[column_name].fillna(column_mean)\n"
          ]
        }
      ]
    },
    {
      "cell_type": "code",
      "source": [
        "from sklearn.model_selection import train_test_split\n",
        "X_train, X_test, y_train, y_test = train_test_split(X, y, test_size=0.2, random_state=42)"
      ],
      "metadata": {
        "id": "jRZ0uOF6ejyo"
      },
      "execution_count": 23,
      "outputs": []
    },
    {
      "cell_type": "code",
      "source": [
        "from sklearn.svm import SVC\n",
        "model = SVC(kernel='linear', C=1.0)\n",
        "model.fit(X_train, y_train)\n",
        "predictions = model.predict(X_test)\n",
        "accuracy = accuracy_score(y_test, predictions)\n",
        "print(\"For C=\" + str(1.0) + \", Accuracy is : \" + str(accuracy))"
      ],
      "metadata": {
        "colab": {
          "base_uri": "https://localhost:8080/"
        },
        "id": "vCGUtHQ-1pJ9",
        "outputId": "a6b6064a-c942-47c0-a4d9-7ee5852a5062"
      },
      "execution_count": 24,
      "outputs": [
        {
          "output_type": "stream",
          "name": "stdout",
          "text": [
            "For C=1.0, Accuracy is : 0.9736632083000798\n"
          ]
        }
      ]
    },
    {
      "cell_type": "code",
      "source": [
        "model = SVC(kernel='linear', C=100.0)\n",
        "model.fit(X_train, y_train)\n",
        "predictions = model.predict(X_test)\n",
        "accuracy = accuracy_score(y_test, predictions)\n",
        "print(\"For C=\" + str(100.0) + \", Accuracy is : \" + str(accuracy))"
      ],
      "metadata": {
        "colab": {
          "base_uri": "https://localhost:8080/"
        },
        "id": "FeWNFrgmd3wl",
        "outputId": "3f1a370a-1ca1-410c-fc9f-f4e27a6f52c8"
      },
      "execution_count": 25,
      "outputs": [
        {
          "output_type": "stream",
          "name": "stdout",
          "text": [
            "For C=100.0, Accuracy is : 0.9736632083000798\n"
          ]
        }
      ]
    },
    {
      "cell_type": "code",
      "source": [
        "model = SVC(kernel='linear', C=10000.0)\n",
        "model.fit(X_train, y_train)\n",
        "predictions = model.predict(X_test)\n",
        "accuracy = accuracy_score(y_test, predictions)\n",
        "print(\"For C=\" + str(10000.0) + \", Accuracy is : \" + str(accuracy))"
      ],
      "metadata": {
        "colab": {
          "base_uri": "https://localhost:8080/"
        },
        "id": "z5auwFPNgxLW",
        "outputId": "64322e2f-67b9-4ff1-a85f-83e79831a8dc"
      },
      "execution_count": 26,
      "outputs": [
        {
          "output_type": "stream",
          "name": "stdout",
          "text": [
            "For C=10000.0, Accuracy is : 0.9736632083000798\n"
          ]
        }
      ]
    }
  ],
  "metadata": {
    "colab": {
      "provenance": []
    },
    "kernelspec": {
      "display_name": "Python 3",
      "name": "python3"
    },
    "language_info": {
      "name": "python"
    }
  },
  "nbformat": 4,
  "nbformat_minor": 0
}