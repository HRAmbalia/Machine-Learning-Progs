{
  "nbformat": 4,
  "nbformat_minor": 0,
  "metadata": {
    "colab": {
      "provenance": []
    },
    "kernelspec": {
      "name": "python3",
      "display_name": "Python 3"
    },
    "language_info": {
      "name": "python"
    }
  },
  "cells": [
    {
      "cell_type": "markdown",
      "source": [
        "There are several Python libraries that provide solid implementations of a range of machine learning algorithms. One of the best known is Scikit-Learn, a package that provides efficient versions of a large number of common algorithms. Scikit-Learn is characterized by a clean, uniform, and streamlined API, as well as by very useful and complete online documentation. A benefit of this uniformity is that once you understand the basic use and syntax of Scikit-Learn for one type of model, switching to a new model or algorithm is straightforward."
      ],
      "metadata": {
        "id": "ffXU_rZuevta"
      }
    },
    {
      "cell_type": "markdown",
      "metadata": {
        "id": "InNhgMUUZXAU"
      },
      "source": [
        "Scikit-learn (Sklearn) is the most useful and robust library for machine learning in Python. It provides a selection of efficient tools for machine learning and statistical modeling including classification, regression, clustering and dimensionality reduction via a consistence interface in Python. This library, which is largely written in Python, is built upon NumPy, SciPy and Matplotlib."
      ]
    },
    {
      "cell_type": "code",
      "metadata": {
        "id": "rRq-_48SZJTS"
      },
      "source": [
        "#Import the relevant libraries and read the dataset"
      ],
      "execution_count": null,
      "outputs": []
    },
    {
      "cell_type": "code",
      "metadata": {
        "id": "F9Fpva4Bb8ai"
      },
      "source": [
        "import numpy as np\n",
        "\n",
        "import matplotlib as plt\n",
        "\n",
        "from sklearn import datasets #various toy datasets\n",
        "\n",
        "from sklearn import metrics #Check accuracy of model\n",
        "\n",
        "from sklearn.linear_model import LogisticRegression #various supervised and unsupervised learning algorithms"
      ],
      "execution_count": null,
      "outputs": []
    },
    {
      "cell_type": "markdown",
      "metadata": {
        "id": "4rJXB_iJcUOl"
      },
      "source": [
        "Dataset Loading"
      ]
    },
    {
      "cell_type": "code",
      "metadata": {
        "id": "24yJC82icQhR"
      },
      "source": [
        "iris = datasets.load_iris()"
      ],
      "execution_count": null,
      "outputs": []
    },
    {
      "cell_type": "markdown",
      "metadata": {
        "id": "ZcDwU6PIca1J"
      },
      "source": [
        "**Features**− The variables of data are called its features. They are also known as predictors, inputs or attributes.\n",
        "\n",
        "**Feature matrix** − It is the collection of features, in case there are more than one.\n",
        "\n",
        "**Feature Names** − It is the list of all the names of the features.\n",
        "\n",
        "**Response** − It is the output variable that basically depends upon the feature variables. They are also known as target, label or output.\n",
        "\n",
        "**Response Vector** − It is used to represent response column. Generally, we have just one response column.\n",
        "\n",
        "**Target Names**− It represent the possible values taken by a response vector."
      ]
    },
    {
      "cell_type": "code",
      "metadata": {
        "colab": {
          "base_uri": "https://localhost:8080/"
        },
        "id": "eYEPKNr5cV9H",
        "outputId": "76bff81a-1273-4e33-bc17-270ca5bb6ed0"
      },
      "source": [
        "X = iris.data\n",
        "y= iris.target\n",
        "\n",
        "feature_names = iris.feature_names\n",
        "target_names = iris.target_names\n",
        "print(\"Feature names:\", feature_names)\n",
        "print(\"Target names:\", target_names)\n",
        "print(\"\\nFirst 10 rows of X:\\n\", X[:10])"
      ],
      "execution_count": null,
      "outputs": [
        {
          "output_type": "stream",
          "name": "stdout",
          "text": [
            "Feature names: ['sepal length (cm)', 'sepal width (cm)', 'petal length (cm)', 'petal width (cm)']\n",
            "Target names: ['setosa' 'versicolor' 'virginica']\n",
            "\n",
            "First 10 rows of X:\n",
            " [[5.1 3.5 1.4 0.2]\n",
            " [4.9 3.  1.4 0.2]\n",
            " [4.7 3.2 1.3 0.2]\n",
            " [4.6 3.1 1.5 0.2]\n",
            " [5.  3.6 1.4 0.2]\n",
            " [5.4 3.9 1.7 0.4]\n",
            " [4.6 3.4 1.4 0.3]\n",
            " [5.  3.4 1.5 0.2]\n",
            " [4.4 2.9 1.4 0.2]\n",
            " [4.9 3.1 1.5 0.1]]\n"
          ]
        }
      ]
    },
    {
      "cell_type": "markdown",
      "metadata": {
        "id": "nkZHazTVdPAu"
      },
      "source": [
        "To check the accuracy of our model, we can split the dataset into two pieces-a training set and a testing set. Use the training set to train the model and testing set to test the model. After that, we can evaluate how well our model did."
      ]
    },
    {
      "cell_type": "code",
      "metadata": {
        "id": "-CbgtfdBdP0s"
      },
      "source": [
        "from sklearn.model_selection import train_test_split"
      ],
      "execution_count": null,
      "outputs": []
    },
    {
      "cell_type": "code",
      "metadata": {
        "id": "IDxJClsndZso"
      },
      "source": [
        "X_train, X_test, y_train, y_test = train_test_split(\n",
        "   X, y, test_size = 0.4, random_state=1\n",
        ")"
      ],
      "execution_count": null,
      "outputs": []
    },
    {
      "cell_type": "markdown",
      "metadata": {
        "id": "UOxETLrqdynL"
      },
      "source": [
        "**Exercise:** Perform the above steps on any other dataset available in Sklearn library."
      ]
    },
    {
      "cell_type": "markdown",
      "source": [
        "References:\n",
        "\n",
        "*   https://colab.research.google.com/github/jakevdp/PythonDataScienceHandbook/blob/master/notebooks/05.02-Introducing-Scikit-Learn.ipynb#scrollTo=cLJ5wb07eTeb\n",
        "*   https://colab.research.google.com/github/jakevdp/PythonDataScienceHandbook/blob/master/notebooks/04.14-Visualization-With-Seaborn.ipynb\n",
        "      \n"
      ],
      "metadata": {
        "id": "_6rI3KfbgIoB"
      }
    }
  ]
}